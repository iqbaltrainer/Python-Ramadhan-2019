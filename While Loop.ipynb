{
 "cells": [
  {
   "cell_type": "code",
   "execution_count": 3,
   "metadata": {},
   "outputs": [
    {
     "name": "stdout",
     "output_type": "stream",
     "text": [
      "The NUmber is  0\n",
      "The NUmber is  1\n",
      "The NUmber is  2\n",
      "The NUmber is  3\n",
      "The NUmber is  4\n",
      "The NUmber is  5\n",
      "The NUmber is  6\n",
      "The NUmber is  7\n",
      "The NUmber is  8\n",
      "Loop is over\n"
     ]
    }
   ],
   "source": [
    "number = 0\n",
    "while number < 9:\n",
    "    print(\"The NUmber is \", number)\n",
    "    number = number + 1\n",
    "print(\"Loop is over\")"
   ]
  },
  {
   "cell_type": "code",
   "execution_count": 4,
   "metadata": {},
   "outputs": [
    {
     "name": "stdout",
     "output_type": "stream",
     "text": [
      "the number is :  0\n",
      "the number is :  1\n",
      "the number is :  2\n",
      "the number is :  3\n",
      "the number is :  4\n",
      "the number is :  5\n",
      "the number is :  6\n",
      "the number is :  7\n",
      "the number is :  8\n",
      "loop is Over .\n"
     ]
    }
   ],
   "source": [
    "#else with Wile Loop\n",
    "number = 0\n",
    "while number < 9:\n",
    "    print('the number is : ',number)\n",
    "    number = number + 1\n",
    "else:\n",
    "    print(\"loop is Over .\")"
   ]
  },
  {
   "cell_type": "code",
   "execution_count": 7,
   "metadata": {},
   "outputs": [
    {
     "name": "stdout",
     "output_type": "stream",
     "text": [
      "1\n",
      "2\n",
      "3\n"
     ]
    }
   ],
   "source": [
    "i = 1\n",
    "while i < 6:\n",
    "    print(i)\n",
    "    if (i == 3):\n",
    "        break\n",
    "    i += 1"
   ]
  },
  {
   "cell_type": "code",
   "execution_count": 8,
   "metadata": {},
   "outputs": [
    {
     "name": "stdout",
     "output_type": "stream",
     "text": [
      "1\n",
      "2\n",
      "4\n",
      "5\n",
      "6\n"
     ]
    }
   ],
   "source": [
    "i = 0\n",
    "while i < 6:\n",
    "    i += 1\n",
    "    if i == 3:\n",
    "        continue\n",
    "    print(i)"
   ]
  },
  {
   "cell_type": "code",
   "execution_count": null,
   "metadata": {},
   "outputs": [],
   "source": []
  }
 ],
 "metadata": {
  "kernelspec": {
   "display_name": "Python 3",
   "language": "python",
   "name": "python3"
  },
  "language_info": {
   "codemirror_mode": {
    "name": "ipython",
    "version": 3
   },
   "file_extension": ".py",
   "mimetype": "text/x-python",
   "name": "python",
   "nbconvert_exporter": "python",
   "pygments_lexer": "ipython3",
   "version": "3.6.7"
  }
 },
 "nbformat": 4,
 "nbformat_minor": 2
}
