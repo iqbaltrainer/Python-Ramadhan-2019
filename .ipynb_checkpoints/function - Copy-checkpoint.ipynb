{
 "cells": [
  {
   "cell_type": "code",
   "execution_count": 1,
   "metadata": {},
   "outputs": [
    {
     "name": "stdout",
     "output_type": "stream",
     "text": [
      "inter21\n",
      "inter34\n",
      "inter231\n",
      "sum of three number is 286\n"
     ]
    }
   ],
   "source": [
    "def insub (a,b,c):\n",
    "    return a+b+c\n",
    "\n",
    "x = input(\"inter\")\n",
    "y = input(\"inter\")\n",
    "z = input(\"inter\")\n",
    "l = (insub(int(x),int(y),int(z)))\n",
    "\n",
    "print(\"sum of three number is \"+ str(l))"
   ]
  },
  {
   "cell_type": "code",
   "execution_count": null,
   "metadata": {},
   "outputs": [],
   "source": []
  }
 ],
 "metadata": {
  "kernelspec": {
   "display_name": "Python 3",
   "language": "python",
   "name": "python3"
  },
  "language_info": {
   "codemirror_mode": {
    "name": "ipython",
    "version": 3
   },
   "file_extension": ".py",
   "mimetype": "text/x-python",
   "name": "python",
   "nbconvert_exporter": "python",
   "pygments_lexer": "ipython3",
   "version": "3.6.7"
  }
 },
 "nbformat": 4,
 "nbformat_minor": 2
}
