{
 "cells": [
  {
   "cell_type": "markdown",
   "metadata": {},
   "source": [
    "# logical operators"
   ]
  },
  {
   "cell_type": "code",
   "execution_count": 3,
   "metadata": {},
   "outputs": [
    {
     "data": {
      "text/plain": [
       "10"
      ]
     },
     "execution_count": 3,
     "metadata": {},
     "output_type": "execute_result"
    }
   ],
   "source": [
    "a = 10 \n",
    "a"
   ]
  },
  {
   "cell_type": "code",
   "execution_count": 4,
   "metadata": {},
   "outputs": [
    {
     "data": {
      "text/plain": [
       "20"
      ]
     },
     "execution_count": 4,
     "metadata": {},
     "output_type": "execute_result"
    }
   ],
   "source": [
    "b = 20\n",
    "b"
   ]
  },
  {
   "cell_type": "code",
   "execution_count": null,
   "metadata": {},
   "outputs": [],
   "source": [
    "# and (a and b ) True other False \n",
    "#or (a or b ) True \n",
    "#not\n"
   ]
  },
  {
   "cell_type": "code",
   "execution_count": null,
   "metadata": {},
   "outputs": [],
   "source": [
    "# in \n",
    "# not in \n",
    "\n",
    "is # x is y ,\n",
    "is not #x is not y ,"
   ]
  },
  {
   "cell_type": "markdown",
   "metadata": {},
   "source": [
    "# Operators Precedence "
   ]
  },
  {
   "cell_type": "code",
   "execution_count": null,
   "metadata": {},
   "outputs": [],
   "source": [
    "z = 12 + 32 - 23 ** 32 + 34 * 32"
   ]
  },
  {
   "cell_type": "code",
   "execution_count": null,
   "metadata": {},
   "outputs": [],
   "source": [
    "# link   https://www.techbeamers.com/python-operator-precedence-associativity/\n",
    "# 1) ** \n",
    "#2) *\n",
    "#3) /\n",
    "#4) %\n",
    "#5) //\n",
    "#6 ) +\n",
    "#7 ) -\n"
   ]
  },
  {
   "cell_type": "markdown",
   "metadata": {},
   "source": [
    "Operators\tUsage\n",
    "{ }\tParentheses (grouping)\n",
    "f(args…)\tFunction call\n",
    "x[index:index]\tSlicing\n",
    "x[index]\tSubscription\n",
    "x.attribute\tAttribute reference\n",
    "**\tExponent\n",
    "~x\tBitwise not\n",
    "+x, -x\tPositive, negative\n",
    "*, /, %\tProduct, division, remainder\n",
    "+, –\tAddition, subtraction\n",
    "<<, >>\tShifts left/right\n",
    "&\tBitwise AND\n",
    "^\tBitwise XOR\n",
    "|\tBitwise OR\n",
    "in, not in, is, is not, <, <=, >, >=,\n",
    "<>, !=, ==\tComparisons, membership, identity\n",
    "not x\tBoolean NOT\n",
    "and\tBoolean AND\n",
    "or\tBoolean OR\n",
    "lambda\tLambda expression"
   ]
  },
  {
   "cell_type": "code",
   "execution_count": 6,
   "metadata": {},
   "outputs": [
    {
     "name": "stdout",
     "output_type": "stream",
     "text": [
      "20\n",
      "10\n",
      "15\n",
      "5\n",
      "0\n"
     ]
    }
   ],
   "source": [
    "a = 20\n",
    "b = 10 \n",
    "c = 15 \n",
    "d = 5 \n",
    "e = 0\n",
    "print(a)\n",
    "print(b)\n",
    "print(c)\n",
    "print(d)\n",
    "print(e)"
   ]
  },
  {
   "cell_type": "code",
   "execution_count": 7,
   "metadata": {},
   "outputs": [
    {
     "name": "stdout",
     "output_type": "stream",
     "text": [
      "90.0\n"
     ]
    }
   ],
   "source": [
    "e = (a + b) * c /d # 30 * 15 / 5\n",
    "print(e)"
   ]
  },
  {
   "cell_type": "code",
   "execution_count": 8,
   "metadata": {},
   "outputs": [
    {
     "name": "stdout",
     "output_type": "stream",
     "text": [
      "10.0\n"
     ]
    }
   ],
   "source": [
    "e = ((a + b)  / c ) * d \n",
    "print(e)"
   ]
  },
  {
   "cell_type": "markdown",
   "metadata": {},
   "source": [
    "# Assignment no 3 \n"
   ]
  },
  {
   "cell_type": "code",
   "execution_count": null,
   "metadata": {},
   "outputs": [],
   "source": []
  },
  {
   "cell_type": "code",
   "execution_count": null,
   "metadata": {},
   "outputs": [],
   "source": []
  },
  {
   "cell_type": "code",
   "execution_count": null,
   "metadata": {},
   "outputs": [],
   "source": []
  },
  {
   "cell_type": "code",
   "execution_count": null,
   "metadata": {},
   "outputs": [],
   "source": []
  },
  {
   "cell_type": "code",
   "execution_count": null,
   "metadata": {},
   "outputs": [],
   "source": []
  },
  {
   "cell_type": "code",
   "execution_count": null,
   "metadata": {},
   "outputs": [],
   "source": []
  },
  {
   "cell_type": "code",
   "execution_count": 20,
   "metadata": {},
   "outputs": [
    {
     "name": "stdout",
     "output_type": "stream",
     "text": [
      "Value of Expression is 99\n"
     ]
    }
   ],
   "source": [
    "# Decision MAKING  \n",
    "# IF ELSE  Statment \n",
    "# Flowchart \n",
    "\n",
    "var = 90\n",
    "if(var == 100):\n",
    "    print(\"Value of Expression is 100\")\n",
    "elif var == 99  :\n",
    "        print(\"Value of Expression is 99\")\n",
    "elif var == 90  :\n",
    "        print(\"Value of Expression is 90\")\n",
    "else :\n",
    "        print(\"Value of Expression is not 100\")"
   ]
  },
  {
   "cell_type": "code",
   "execution_count": null,
   "metadata": {},
   "outputs": [],
   "source": []
  }
 ],
 "metadata": {
  "kernelspec": {
   "display_name": "Python 3",
   "language": "python",
   "name": "python3"
  },
  "language_info": {
   "codemirror_mode": {
    "name": "ipython",
    "version": 3
   },
   "file_extension": ".py",
   "mimetype": "text/x-python",
   "name": "python",
   "nbconvert_exporter": "python",
   "pygments_lexer": "ipython3",
   "version": "3.6.7"
  }
 },
 "nbformat": 4,
 "nbformat_minor": 2
}
