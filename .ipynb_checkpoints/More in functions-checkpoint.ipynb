{
 "cells": [
  {
   "cell_type": "code",
   "execution_count": 3,
   "metadata": {},
   "outputs": [
    {
     "ename": "NameError",
     "evalue": "name 'prin' is not defined",
     "output_type": "error",
     "traceback": [
      "\u001b[1;31m---------------------------------------------------------------------------\u001b[0m",
      "\u001b[1;31mNameError\u001b[0m                                 Traceback (most recent call last)",
      "\u001b[1;32m<ipython-input-3-6eaab135993f>\u001b[0m in \u001b[0;36m<module>\u001b[1;34m\u001b[0m\n\u001b[0;32m      2\u001b[0m     \u001b[0mprin\u001b[0m\u001b[1;33m(\u001b[0m\u001b[1;34m\"i have a \"\u001b[0m\u001b[1;33m,\u001b[0m\u001b[0mcar\u001b[0m\u001b[1;33m,\u001b[0m\u001b[1;34m\".\"\u001b[0m\u001b[1;33m)\u001b[0m\u001b[1;33m\u001b[0m\u001b[1;33m\u001b[0m\u001b[0m\n\u001b[0;32m      3\u001b[0m     \u001b[0mprin\u001b[0m\u001b[1;33m(\u001b[0m\u001b[1;34m\"i have a \"\u001b[0m\u001b[1;33m,\u001b[0m\u001b[0mmobile\u001b[0m\u001b[1;33m,\u001b[0m\u001b[1;34m\".\"\u001b[0m\u001b[1;33m)\u001b[0m\u001b[1;33m\u001b[0m\u001b[1;33m\u001b[0m\u001b[0m\n\u001b[1;32m----> 4\u001b[1;33m \u001b[0mmyself\u001b[0m\u001b[1;33m(\u001b[0m\u001b[1;34m\"audi A4 \"\u001b[0m\u001b[1;33m,\u001b[0m\u001b[1;34m\"nokia 1100\"\u001b[0m\u001b[1;33m)\u001b[0m\u001b[1;33m\u001b[0m\u001b[1;33m\u001b[0m\u001b[0m\n\u001b[0m",
      "\u001b[1;32m<ipython-input-3-6eaab135993f>\u001b[0m in \u001b[0;36mmyself\u001b[1;34m(car, mobile)\u001b[0m\n\u001b[0;32m      1\u001b[0m \u001b[1;32mdef\u001b[0m \u001b[0mmyself\u001b[0m\u001b[1;33m(\u001b[0m\u001b[0mcar\u001b[0m \u001b[1;33m,\u001b[0m \u001b[0mmobile\u001b[0m \u001b[1;33m=\u001b[0m\u001b[1;34m\"Nokia 3310\"\u001b[0m\u001b[1;33m)\u001b[0m\u001b[1;33m:\u001b[0m\u001b[1;33m\u001b[0m\u001b[1;33m\u001b[0m\u001b[0m\n\u001b[1;32m----> 2\u001b[1;33m     \u001b[0mprin\u001b[0m\u001b[1;33m(\u001b[0m\u001b[1;34m\"i have a \"\u001b[0m\u001b[1;33m,\u001b[0m\u001b[0mcar\u001b[0m\u001b[1;33m,\u001b[0m\u001b[1;34m\".\"\u001b[0m\u001b[1;33m)\u001b[0m\u001b[1;33m\u001b[0m\u001b[1;33m\u001b[0m\u001b[0m\n\u001b[0m\u001b[0;32m      3\u001b[0m     \u001b[0mprin\u001b[0m\u001b[1;33m(\u001b[0m\u001b[1;34m\"i have a \"\u001b[0m\u001b[1;33m,\u001b[0m\u001b[0mmobile\u001b[0m\u001b[1;33m,\u001b[0m\u001b[1;34m\".\"\u001b[0m\u001b[1;33m)\u001b[0m\u001b[1;33m\u001b[0m\u001b[1;33m\u001b[0m\u001b[0m\n\u001b[0;32m      4\u001b[0m \u001b[0mmyself\u001b[0m\u001b[1;33m(\u001b[0m\u001b[1;34m\"audi A4 \"\u001b[0m\u001b[1;33m,\u001b[0m\u001b[1;34m\"nokia 1100\"\u001b[0m\u001b[1;33m)\u001b[0m\u001b[1;33m\u001b[0m\u001b[1;33m\u001b[0m\u001b[0m\n",
      "\u001b[1;31mNameError\u001b[0m: name 'prin' is not defined"
     ]
    }
   ],
   "source": [
    "def myself(car , mobile =\"Nokia 3310\"):\n",
    "    prin(\"i have a \",car,\".\")\n",
    "    prin(\"i have a \",mobile,\".\")\n",
    "myself(\"audi A4 \",\"nokia 1100\")"
   ]
  },
  {
   "cell_type": "code",
   "execution_count": null,
   "metadata": {},
   "outputs": [],
   "source": []
  }
 ],
 "metadata": {
  "kernelspec": {
   "display_name": "Python 3",
   "language": "python",
   "name": "python3"
  },
  "language_info": {
   "codemirror_mode": {
    "name": "ipython",
    "version": 3
   },
   "file_extension": ".py",
   "mimetype": "text/x-python",
   "name": "python",
   "nbconvert_exporter": "python",
   "pygments_lexer": "ipython3",
   "version": "3.6.7"
  }
 },
 "nbformat": 4,
 "nbformat_minor": 2
}
